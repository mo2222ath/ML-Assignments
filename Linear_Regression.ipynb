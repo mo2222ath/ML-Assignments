{
  "nbformat": 4,
  "nbformat_minor": 0,
  "metadata": {
    "celltoolbar": "Raw Cell Format",
    "kernelspec": {
      "display_name": "Python 3",
      "language": "python",
      "name": "python3"
    },
    "language_info": {
      "codemirror_mode": {
        "name": "ipython",
        "version": 3
      },
      "file_extension": ".py",
      "mimetype": "text/x-python",
      "name": "python",
      "nbconvert_exporter": "python",
      "pygments_lexer": "ipython3",
      "version": "3.8.5"
    },
    "colab": {
      "name": "Linear_Regression.ipynb",
      "provenance": [],
      "collapsed_sections": []
    }
  },
  "cells": [
    {
      "cell_type": "code",
      "metadata": {
        "id": "v5P89I7BR1o_"
      },
      "source": [
        "import numpy as np\n",
        "import pandas as pd\n",
        "import matplotlib.pyplot as plt\n",
        "\n",
        "\n",
        "class LinearRegression():\n",
        "\n",
        "    def __init__(self, learning_rate, iterations):\n",
        "        self.learning_rate = learning_rate\n",
        "        self.iterations = iterations\n",
        "    \n",
        "    # def calculateCost(self):\n",
        "    #   diff = np.power((self.X.dot(self.theta.T) - self.Y), 2)\n",
        "    #   print('self.theta.T : ' , self.theta.T)\n",
        "    #   print('self.Y : ' , self.Y)\n",
        "    #   print('self.X : ' , self.X)\n",
        "    #   return np.sum(diff) / (2 * self.m)\n",
        "    def calculateCost(self):\n",
        "      inner = np.power(((self.X * self.theta.T) - self.Y), 2)\n",
        "      return np.sum(inner) / (2 * len(self.X))\n",
        "\n",
        "\n",
        "\n",
        "    def gradient_descent(self, X, Y):\n",
        "\n",
        "        self.m, self.n = X.shape\n",
        "        self.theta = np.matrix(np.zeros(self.n))\n",
        "        self.X = np.matrix(X.values)\n",
        "        self.Y = np.matrix(Y.values)\n",
        "        self.cost = []\n",
        "\n",
        "        for i in range(self.iterations):\n",
        "            self.update_thetas()\n",
        "            self.cost.append(self.calculateCost())\n",
        "        return self\n",
        "\n",
        "\n",
        "    def update_thetas(self):\n",
        "        self.h = self.predicted_Y()\n",
        "        self.theta = self.theta - self.learning_rate * (  self.X.T.dot( self.Y.T - self.h ) / self.m ).T\n",
        "        return self\n",
        "\n",
        "    \n",
        "    def predicted_Y(self):\n",
        "        return self.X.dot(self.theta.T)\n",
        "\n",
        "\n",
        "\n"
      ],
      "execution_count": 121,
      "outputs": []
    },
    {
      "cell_type": "code",
      "metadata": {
        "scrolled": false,
        "colab": {
          "base_uri": "https://localhost:8080/"
        },
        "id": "GCFmPcODR1pC",
        "outputId": "1117045d-6aae-4c09-88cd-2e3fd4b87df1"
      },
      "source": [
        "house_data = pd.read_csv(\"house_data.csv\")\n",
        "# house_data.insert(0,\"Ones\", 1)\n",
        "# print(house_data.head())\n",
        "house_data = (house_data - house_data.mean()) / house_data.std()\n",
        "# print('********************************')\n",
        "# print(house_data.head())\n",
        "# \n",
        "flag = False\n",
        "if flag:\n",
        "    X = house_data[['sqft_living']]\n",
        "else:\n",
        "    X = house_data.loc[:,['grade', 'bathrooms', 'lat', 'sqft_living', 'view']]\n",
        "X.insert(0,\"Ones\", 1)\n",
        "Y = house_data['price']\n",
        "\n",
        "# print(X)\n",
        "# print(Y)\n",
        "\n",
        "learning_rate = 0.01\n",
        "iterations = 100\n",
        "\n",
        "linearModel = LinearRegression(learning_rate , iterations)\n",
        "linearModel.gradient_descent(X,Y)\n",
        "\n",
        "\n"
      ],
      "execution_count": 125,
      "outputs": [
        {
          "output_type": "execute_result",
          "data": {
            "text/plain": [
              "<__main__.LinearRegression at 0x7fee16657400>"
            ]
          },
          "metadata": {
            "tags": []
          },
          "execution_count": 125
        }
      ]
    },
    {
      "cell_type": "code",
      "metadata": {
        "colab": {
          "base_uri": "https://localhost:8080/"
        },
        "id": "Axb5npIlR1pG",
        "outputId": "62c65097-3049-4409-f493-13d21923c924"
      },
      "source": [
        "print(linearModel.theta)\n",
        "print(linearModel.cost[-1])\n",
        "\n",
        "f = linearModel.X.dot(linearModel.theta.T)\n",
        "\n",
        "# print(X)\n",
        "# print(Y)\n",
        "\n",
        "# print(f)\n",
        "# house_data.grade"
      ],
      "execution_count": 126,
      "outputs": [
        {
          "output_type": "stream",
          "text": [
            "[[-1.00435674e-13 -2.98615134e+00 -2.74908043e+00 -7.53991011e-01\n",
            "  -3.10150359e+00 -1.52926958e+00]]\n",
            "814392.1146388851\n"
          ],
          "name": "stdout"
        }
      ]
    },
    {
      "cell_type": "code",
      "metadata": {
        "colab": {
          "base_uri": "https://localhost:8080/",
          "height": 387
        },
        "id": "K9fk8wytR1pG",
        "outputId": "fd234b8b-8f7b-415f-d1a6-efe04f90bcdf"
      },
      "source": [
        "# fig, ax = plt.subplots(figsize=(7,7))\n",
        "# ax.plot(X, f, 'r', label='Prediction')\n",
        "# ax.scatter(house_data.grade, house_data.price, label='Training Data')\n",
        "# ax.legend(loc=2)\n",
        "# ax.set_xlabel('Grade')\n",
        "# ax.set_ylabel('Price')\n",
        "# ax.set_title('Grade vs. Price')\n",
        "\n",
        "\n",
        "# get best fit line for bathrooms vs. Price\n",
        "\n",
        "# x = np.linspace(house_data.bathrooms.min(), house_data.bathrooms.max(), 100)\n",
        "# print('x \\n',linearModel.X)\n",
        "# print('theta \\n',linearModel.theta)\n",
        "\n",
        "\n",
        "fig, ax = plt.subplots(figsize=(5,5))\n",
        "ax.plot(np.arange(iterations), linearModel.cost, 'r')\n",
        "ax.set_xlabel('Iterations')\n",
        "ax.set_ylabel('Cost')\n",
        "ax.set_title('Error vs. Training Epoch')\n",
        "\n",
        "print(linearModel.cost)\n"
      ],
      "execution_count": 127,
      "outputs": [
        {
          "output_type": "stream",
          "text": [
            "[10809.946766080942, 10822.191532152014, 10843.368451367282, 10874.14990754356, 10915.24864233204, 10967.419996791994, 11031.464273416519, 11108.229224992307, 11198.612676996774, 11303.565290599676, 11424.093473698209, 11561.262447811037, 11716.199479063856, 11890.09728193514, 12084.217604878064, 12299.895007424235, 12538.540838866842, 12801.647429160323, 13090.792503225643, 13407.643830439452, 13753.964121701109, 14131.616187125908, 14542.568368091439, 14988.900258085403, 15472.808727561302, 15996.614268808939, 16562.76767767221, 17173.857089848887, 17832.61539041413, 18541.92801620799, 19304.841171732092, 20124.57048030605, 21004.510093354318, 21948.242281901254, 22959.547535609905, 24042.415196028393, 25201.05465209992, 26439.90712746221, 27763.6580906133, 29177.2503206344, 30685.897662885483, 32295.099510881337, 34010.65605244422, 35838.68432024752, 37785.63508892773, 39858.31066317644, 42063.88360353464, 44409.91643905977, 46904.38241860506, 49555.68735514904, 52372.69262048088, 55364.73935051933, 58541.67392471462, 61913.874786280096, 65492.28067351358, 69288.4203361115, 73314.44381428462, 77583.15536249972, 82108.04810398552, 86903.34050663936, 91984.01477568888, 97365.85726346384, 103065.50100187688, 109100.47046871114, 115489.22870465147, 122251.22690407134, 129406.95660904131, 136978.00464276897, 144987.11092580608, 153458.2293258802, 162416.5916999667, 171888.77529573298, 181902.77368792327, 192488.07143469786, 203675.72264840815, 215498.43368556263, 227990.6501713767, 241188.64858557828, 255130.63264791455, 269856.83475443453, 285409.62272843433, 301833.61216408026, 319175.7846549502, 337485.6122151911, 356815.1882169259, 377219.36518453725, 398755.8998042262, 421485.60552585404, 445472.51315390866, 470784.03984512866, 497491.1669518978, 525668.6271739329, 555395.1015043282, 586753.4264818188, 619830.812287899, 654719.0722550587, 691514.8643825642, 730319.9454869168, 771241.4386470703, 814392.1146388851]\n"
          ],
          "name": "stdout"
        },
        {
          "output_type": "display_data",
          "data": {
            "image/png": "[encoded data removed]",
            "text/plain": [
              "<Figure size 360x360 with 1 Axes>"
            ]
          },
          "metadata": {
            "tags": [],
            "needs_background": "light"
          }
        }
      ]
    },
    {
      "cell_type": "code",
      "metadata": {
        "colab": {
          "base_uri": "https://localhost:8080/"
        },
        "id": "5tPkTlUOR1pG",
        "outputId": "343905fa-1e3f-48db-dccf-f511b188144c"
      },
      "source": [
        "import sklearn.metrics as sm\n",
        "print(\"Explain variance score =\", round(sm.explained_variance_score(Y, linearModel.h), 2)) \n",
        "print(\"R2 score =\", round(sm.r2_score(Y, linearModel.h), 2))"
      ],
      "execution_count": 130,
      "outputs": [
        {
          "output_type": "stream",
          "text": [
            "Explain variance score = -82.93\n",
            "R2 score = -82.93\n"
          ],
          "name": "stdout"
        }
      ]
    },
    {
      "cell_type": "code",
      "metadata": {
        "id": "d5FrDpRfrIuW"
      },
      "source": [
        ""
      ],
      "execution_count": null,
      "outputs": []
    }
  ]
}