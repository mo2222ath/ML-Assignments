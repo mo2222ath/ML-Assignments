{
  "nbformat": 4,
  "nbformat_minor": 0,
  "metadata": {
    "celltoolbar": "Raw Cell Format",
    "kernelspec": {
      "display_name": "Python 3",
      "language": "python",
      "name": "python3"
    },
    "language_info": {
      "codemirror_mode": {
        "name": "ipython",
        "version": 3
      },
      "file_extension": ".py",
      "mimetype": "text/x-python",
      "name": "python",
      "nbconvert_exporter": "python",
      "pygments_lexer": "ipython3",
      "version": "3.8.5"
    },
    "colab": {
      "name": "Linear_Regression.ipynb",
      "provenance": [],
      "collapsed_sections": []
    }
  },
  "cells": [
    {
      "cell_type": "code",
      "metadata": {
        "id": "aKMDGDkfGpSn"
      },
      "source": [
        "import numpy as np\n",
        "import pandas as pd\n",
        "import matplotlib.pyplot as plt\n",
        "\n",
        "\n",
        "class LinearRegression2():\n",
        "\n",
        "    def __init__(self, learning_rate, iterations ,X, y):\n",
        "          self.learning_rate = learning_rate\n",
        "          self.iterations = iterations\n",
        "          self.X = X\n",
        "          self.y = y\n",
        "          self.alpha = learning_rate\n",
        "          self.X.insert(0, 'Ones', 1)\n",
        "          self.X = np.matrix(self.X.values)\n",
        "          self.y = np.matrix(self.y.values)\n",
        "          self.theta = np.matrix(np.array([0] * self.X.shape[1]))\n",
        "          self.cost = np.zeros(self.iterations)\n",
        "\n",
        "    \n",
        "    def computeCost(self):\n",
        "      inner = np.power(((self.X * self.theta.T) - self.y), 2)\n",
        "      return np.sum(inner) / (2 * len(self.X))\n",
        "\n",
        "    def gradientDescent(self):\n",
        "        self.theta = np.matrix(np.zeros(self.theta.shape))\n",
        "        parameters = int(self.theta.ravel().shape[1])\n",
        "        \n",
        "        \n",
        "        for i in range(self.iterations):\n",
        "            error = (self.X * self.theta.T) - self.y\n",
        "            \n",
        "            for j in range(parameters):\n",
        "                term = np.multiply(error, self.X[:,j])\n",
        "                self.theta[0,j] = self.theta[0,j] - ((self.alpha / len(self.X)) * np.sum(term))\n",
        "            self.cost[i] = self.computeCost()\n",
        "            \n",
        "    def newPredict(self,X):\n",
        "      return X * self.theta.T\n",
        "\n"
      ],
      "execution_count": 4,
      "outputs": []
    },
    {
      "cell_type": "code",
      "metadata": {
        "colab": {
          "base_uri": "https://localhost:8080/",
          "height": 690
        },
        "id": "ofuLyQ2pFiEH",
        "outputId": "5a287fe7-25d1-40fe-f004-62c42a9fd3d0"
      },
      "source": [
        "data = pd.read_csv('house_data.csv')\n",
        "\n",
        "data = data[['grade', 'bathrooms', 'lat', 'sqft_living', 'view' , 'price']]\n",
        "\n",
        "data = (data - data.mean()) / data.std()\n",
        "\n",
        "flag = False\n",
        "if flag:\n",
        "    X = data[['sqft_living']]\n",
        "else:\n",
        "    X = data.loc[:,['grade', 'bathrooms', 'lat', 'sqft_living', 'view']]\n",
        "y = data[['price']]\n",
        "\n",
        "alpha = 0.1\n",
        "iters = 100\n",
        "\n",
        "linearModel = LinearRegression2(alpha , iters , X , y)\n",
        "linearModel.gradientDescent()\n",
        "\n",
        "print('costs = ' , linearModel.cost)\n",
        "print('last Cost of the model = ' , linearModel.cost[-1])\n",
        "print('**************************************')\n",
        "\n",
        "\n",
        "# draw error graph\n",
        "\n",
        "fig, ax = plt.subplots(figsize=(5,5))\n",
        "ax.plot(np.arange(iters), linearModel.cost, 'r')\n",
        "ax.set_xlabel('Iterations')\n",
        "ax.set_ylabel('Cost')\n",
        "ax.set_title('Error vs. Training Epoch')"
      ],
      "execution_count": 7,
      "outputs": [
        {
          "output_type": "stream",
          "text": [
            "costs =  [0.37163307 0.29893075 0.25722481 0.23287144 0.21830209 0.20930601\n",
            " 0.20353047 0.19965278 0.1969227  0.1949094  0.19336118 0.19212769\n",
            " 0.19111647 0.19026867 0.1895454  0.18891984 0.18837281 0.18789007\n",
            " 0.18746073 0.18707628 0.18672991 0.18641612 0.18613041 0.18586905\n",
            " 0.18562897 0.18540757 0.18520267 0.18501244 0.18483531 0.18466995\n",
            " 0.18451521 0.18437011 0.1842338  0.18410551 0.18398461 0.18387052\n",
            " 0.18376272 0.18366077 0.18356425 0.1834728  0.18338609 0.18330383\n",
            " 0.18322573 0.18315156 0.18308107 0.18301406 0.18295033 0.1828897\n",
            " 0.18283201 0.18277709 0.18272479 0.18267499 0.18262754 0.18258233\n",
            " 0.18253925 0.18249819 0.18245905 0.18242172 0.18238613 0.18235218\n",
            " 0.1823198  0.18228891 0.18225943 0.18223131 0.18220447 0.18217885\n",
            " 0.18215439 0.18213104 0.18210875 0.18208747 0.18206714 0.18204773\n",
            " 0.18202919 0.18201148 0.18199456 0.18197839 0.18196295 0.18194819\n",
            " 0.18193409 0.18192061 0.18190773 0.18189541 0.18188364 0.18187239\n",
            " 0.18186163 0.18185135 0.18184151 0.18183211 0.18182311 0.18181451\n",
            " 0.18180629 0.18179842 0.18179089 0.18178369 0.1817768  0.18177021\n",
            " 0.1817639  0.18175787 0.1817521  0.18174657]\n",
            "last Cost of the model =  0.18174657227842067\n",
            "**************************************\n"
          ],
          "name": "stdout"
        },
        {
          "output_type": "execute_result",
          "data": {
            "text/plain": [
              "Text(0.5, 1.0, 'Error vs. Training Epoch')"
            ]
          },
          "metadata": {
            "tags": []
          },
          "execution_count": 7
        },
        {
          "output_type": "display_data",
          "data": {
            "image/png": "[encoded data removed]",
            "text/plain": [
              "<Figure size 360x360 with 1 Axes>"
            ]
          },
          "metadata": {
            "tags": [],
            "needs_background": "light"
          }
        }
      ]
    },
    {
      "cell_type": "code",
      "metadata": {
        "id": "uidl64r3Gzxv"
      },
      "source": [
        ""
      ],
      "execution_count": null,
      "outputs": []
    }
  ]
}