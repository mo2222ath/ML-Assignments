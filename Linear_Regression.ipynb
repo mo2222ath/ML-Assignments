{
 "cells": [
  {
   "cell_type": "code",
   "execution_count": 3,
   "metadata": {},
   "outputs": [],
   "source": [
    "import numpy as np\n",
    "import pandas as pd\n",
    "import matplotlib.pyplot as plt\n",
    "\n",
    "\n",
    "class LinearRegression():\n",
    "\n",
    "    def __init__(self, learning_rate, iterations):\n",
    "        self.learning_rate = learning_rate\n",
    "        self.iterations = iterations\n",
    "    \n",
    "    def calculateCost(self):\n",
    "        diff = np.power((self.X.dot(self.theta.T) - self.Y), 2)\n",
    "        return np.sum(diff) / (2 * self.m)\n",
    "\n",
    "\n",
    "    def gradient_descent(self, X, Y):\n",
    "\n",
    "        self.m, self.n = X.shape\n",
    "        self.theta = np.matrix(np.zeros(self.n))\n",
    "\n",
    "        self.X = np.matrix(X.values)\n",
    "        self.Y = np.matrix(Y.values)\n",
    "        self.cost = []\n",
    "\n",
    "        for i in range(self.iterations):\n",
    "            self.update_thetas()\n",
    "            self.cost.append(self.calculateCost())\n",
    "        return self\n",
    "\n",
    "\n",
    "    def update_thetas(self):\n",
    "        \n",
    "        self.h = self.predicted_Y()\n",
    "#         print(self.X.dot( self.Y - self.h ))\n",
    "        print(self.X)\n",
    "        print(self.Y)\n",
    "        print(self.h)\n",
    "#         self.theta = self.theta - self.learning_rate * (  self.X.dot( self.Y.T - self.h ) / self.m )\n",
    "        return self\n",
    "\n",
    "    \n",
    "    def predicted_Y(self):\n",
    "        return self.X.dot(self.theta.T)\n",
    "\n",
    "\n",
    "\n"
   ]
  },
  {
   "cell_type": "code",
   "execution_count": 2,
   "metadata": {},
   "outputs": [],
   "source": [
    "# !pip install pandas"
   ]
  },
  {
   "cell_type": "code",
   "execution_count": null,
   "metadata": {
    "scrolled": false
   },
   "outputs": [
    {
     "name": "stdout",
     "output_type": "stream",
     "text": [
      "[[   1 1180]\n",
      " [   1 2570]\n",
      " [   1  770]\n",
      " ...\n",
      " [   1 1020]\n",
      " [   1 1600]\n",
      " [   1 1020]]\n",
      "[[221900. 538000. 180000. ... 402101. 400000. 325000.]]\n",
      "[[0.]\n",
      " [0.]\n",
      " [0.]\n",
      " ...\n",
      " [0.]\n",
      " [0.]\n",
      " [0.]]\n"
     ]
    }
   ],
   "source": [
    "house_data = pd.read_csv(\"house_data.csv\")\n",
    "house_data.insert(0,\"Ones\", 1)\n",
    "# house_data\n",
    "flag = True\n",
    "if flag:\n",
    "    X = house_data[['Ones','sqft_living']]\n",
    "else:\n",
    "    X = house_data.loc[:,['Ones','grade', 'bathrooms', 'lat', 'sqft_living', 'view']]\n",
    "Y = house_data['price']\n",
    "\n",
    "learning_rate = 0.01\n",
    "iterations = 1\n",
    "\n",
    "linearModel = LinearRegression(learning_rate , iterations)\n",
    "linearModel.gradient_descent(X,Y)\n",
    "# linearModel.theta\n"
   ]
  },
  {
   "cell_type": "code",
   "execution_count": null,
   "metadata": {},
   "outputs": [],
   "source": []
  },
  {
   "cell_type": "code",
   "execution_count": null,
   "metadata": {},
   "outputs": [],
   "source": []
  },
  {
   "cell_type": "code",
   "execution_count": null,
   "metadata": {},
   "outputs": [],
   "source": []
  }
 ],
 "metadata": {
  "celltoolbar": "Raw Cell Format",
  "kernelspec": {
   "display_name": "Python 3",
   "language": "python",
   "name": "python3"
  },
  "language_info": {
   "codemirror_mode": {
    "name": "ipython",
    "version": 3
   },
   "file_extension": ".py",
   "mimetype": "text/x-python",
   "name": "python",
   "nbconvert_exporter": "python",
   "pygments_lexer": "ipython3",
   "version": "3.8.5"
  }
 },
 "nbformat": 4,
 "nbformat_minor": 4
}
