{
  "nbformat": 4,
  "nbformat_minor": 0,
  "metadata": {
    "colab": {
      "name": "Logistic Regression.ipynb",
      "provenance": []
    },
    "kernelspec": {
      "name": "python3",
      "display_name": "Python 3"
    }
  },
  "cells": [
    {
      "cell_type": "code",
      "metadata": {
        "id": "lOljLOGdsOI1"
      },
      "source": [
        "import numpy as np\n",
        "import pandas as pd\n",
        "import matplotlib.pyplot as plt\n",
        "\n",
        "\n",
        "class LogisticRegression():\n",
        "            \n",
        "    def sigmoid(self , theta , X):\n",
        "      z= np.dot(X,theta)\n",
        "      return 1/(1+np.exp(-z))\n",
        "\n",
        "    def hypothesis(self , theta , X):\n",
        "      return self.sigmoid(theta , X)\n",
        "    \n",
        "    def calculateCost(self , theta , X , Y):\n",
        "      self.m, self.n = X.shape\n",
        "      self.h = self.hypothesis(theta,X)\n",
        "      return -(1/self.m)*np.sum(Y*np.log(self.h) + (1-Y)*np.log(1-self.h))\n",
        "\n",
        "    def gradient_descent(self , theta , X , Y):\n",
        "        self.m, self.n = X.shape\n",
        "        self.h = self.hypothesis(theta , X)\n",
        "        return (1/self.m) * np.dot(X.T, (self.h-Y))\n",
        "\n",
        "    def predicted_Y(self , theta , X):\n",
        "        return self.hypothesis(theta, X)\n",
        "\n",
        "\n",
        "\n"
      ],
      "execution_count": 66,
      "outputs": []
    },
    {
      "cell_type": "code",
      "metadata": {
        "colab": {
          "base_uri": "https://localhost:8080/"
        },
        "id": "bXhYLNbL0k2a",
        "outputId": "f157483f-4a45-4be8-8d9b-28f1f98d2ee2"
      },
      "source": [
        "\n",
        "heart_data = pd.read_csv(\"heart.csv\")\n",
        "# house_data.insert(0,\"Ones\", 1)\n",
        "# print(house_data.head())\n",
        "# heart_data = (heart_data - heart_data.mean()) / heart_data.std()\n",
        "# print('********************************')\n",
        "# print(house_data.head())\n",
        "\n",
        "\n",
        "# X = heart_data.loc[:,['trestbps', 'chol', 'thalach', 'oldpeak']]\n",
        "# X.insert(0,\"Ones\", 1)\n",
        "# Y = heart_data['target']\n",
        "\n",
        "# X = np.matrix(X.values)\n",
        "# Y = np.matrix(Y.values)\n",
        "\n",
        "X = heart_data.loc[:,['trestbps', 'chol', 'thalach', 'oldpeak']]\n",
        "# X.insert(0,\"Ones\", 1)\n",
        "Y = heart_data['target']\n",
        "\n",
        "X = np.c_[np.ones((X.shape[0], 1)), X]\n",
        "Y = Y[:, np.newaxis]\n",
        "\n",
        "# print(X.head(10))\n",
        "# print(Y.head(10))\n",
        "\n",
        "positive = heart_data[heart_data['target'].isin([1])]\n",
        "negative = heart_data[heart_data['target'].isin([0])]\n",
        "\n",
        "theta = np.zeros((X.shape[1], 1))\n",
        "LogisticModel = LogisticRegression()\n",
        "\n",
        "\n",
        "from scipy.optimize import minimize,fmin_tnc\n",
        "opt_weights = fmin_tnc(func=LogisticModel.calculateCost, x0=theta, fprime=LogisticModel.gradient_descent, args=(X ,Y.flatten()))\n",
        "\n",
        "parameters = opt_weights[0]\n",
        "\n",
        "h = hypothesis(parameters, X)\n",
        "\n",
        "def predict(h):\n",
        "    h1 = []\n",
        "    for i in h:\n",
        "        if i>=0.5:\n",
        "            h1.append(1)\n",
        "        else:\n",
        "            h1.append(0)\n",
        "    return h1\n",
        "\n",
        "y_pred = predict(h)\n",
        "\n",
        "accuracy = 0\n",
        "for i in range(0, len(y_pred)):\n",
        "    if y_pred[i] == Y[i]:\n",
        "        accuracy += 1\n",
        "accuracy/len(Y)\n",
        "\n",
        "\n",
        "# fig = plt.figure(figsize=(20, 20))\n",
        "# ax = fig.add_subplot(111, projection='3d')\n",
        "\n",
        "# ax.scatter(positive['trestbps'], \n",
        "#            positive['chol'] ,\n",
        "#             positive['thalach'] , \n",
        "#           #  positive['oldpeak'] ,\n",
        "#              s=200, c='r', marker='x', label='disease')\n",
        "# ax.scatter(negative['trestbps'], \n",
        "#            negative['chol'],\n",
        "#             negative['thalach'] , \n",
        "#           #  negative['oldpeak'] ,\n",
        "#            s=200, c='b', marker='o', label='No disease')\n",
        "# plt.show()"
      ],
      "execution_count": 68,
      "outputs": [
        {
          "output_type": "stream",
          "text": [
            "/usr/local/lib/python3.6/dist-packages/ipykernel_launcher.py:22: FutureWarning: Support for multi-dimensional indexing (e.g. `obj[:, None]`) is deprecated and will be removed in a future version.  Convert to a numpy array before indexing instead.\n"
          ],
          "name": "stderr"
        },
        {
          "output_type": "execute_result",
          "data": {
            "text/plain": [
              "0.7293729372937293"
            ]
          },
          "metadata": {
            "tags": []
          },
          "execution_count": 68
        }
      ]
    },
    {
      "cell_type": "code",
      "metadata": {
        "id": "GoxIs2oU2ift"
      },
      "source": [
        ""
      ],
      "execution_count": 68,
      "outputs": []
    },
    {
      "cell_type": "code",
      "metadata": {
        "id": "zdjd9GrJRuKj"
      },
      "source": [
        ""
      ],
      "execution_count": null,
      "outputs": []
    }
  ]
}